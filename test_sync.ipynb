{
 "cells": [
  {
   "cell_type": "code",
   "execution_count": 2,
   "metadata": {},
   "outputs": [],
   "source": [
    "import pickle as pkl\n",
    "import wave\n",
    "import numpy as np\n",
    "import matplotlib.pyplot as plt\n",
    "import pyaudio"
   ]
  },
  {
   "cell_type": "markdown",
   "metadata": {},
   "source": [
    "## convert bytes to wave file"
   ]
  },
  {
   "cell_type": "code",
   "execution_count": 5,
   "metadata": {},
   "outputs": [],
   "source": [
    "f_data = open('../data/result_data.txt', 'rb')\n",
    "lines = f_data.readlines()\n",
    "\n",
    "CHANNELS = 1\n",
    "RATE = 16000\n",
    "FORMAT = pyaudio.paInt16\n",
    "audio = pyaudio.PyAudio()\n",
    "waveFile = wave.open('../data/sound.wav', 'wb')\n",
    "waveFile.setnchannels(CHANNELS)\n",
    "waveFile.setsampwidth(audio.get_sample_size(FORMAT))\n",
    "waveFile.setframerate(RATE)\n",
    "waveFile.writeframes(b''.join(lines))\n",
    "waveFile.close()\n",
    "\n",
    "f_data.close()"
   ]
  },
  {
   "cell_type": "markdown",
   "metadata": {},
   "source": [
    "## extract sound data from wave file"
   ]
  },
  {
   "cell_type": "code",
   "execution_count": 3,
   "metadata": {},
   "outputs": [],
   "source": [
    "f_sound = wave.open('../sound.wav', 'rb')\n",
    "frames = f_sound.readframes(-1)\n",
    "data = np.frombuffer(frames, dtype='int16')\n",
    "f_sound.close()"
   ]
  },
  {
   "cell_type": "code",
   "execution_count": 6,
   "metadata": {},
   "outputs": [
    {
     "data": {
      "text/plain": [
       "-622"
      ]
     },
     "execution_count": 6,
     "metadata": {},
     "output_type": "execute_result"
    }
   ],
   "source": []
  },
  {
   "cell_type": "code",
   "execution_count": 4,
   "metadata": {},
   "outputs": [
    {
     "data": {
      "image/png": "[encoded data removed]",
      "text/plain": [
       "<matplotlib.figure.Figure at 0x103779160>"
      ]
     },
     "metadata": {},
     "output_type": "display_data"
    }
   ],
   "source": [
    "import matplotlib.pyplot as plt\n",
    "plt.plot(data)\n",
    "plt.show()"
   ]
  },
  {
   "cell_type": "markdown",
   "metadata": {},
   "source": [
    "## read response result"
   ]
  },
  {
   "cell_type": "code",
   "execution_count": 12,
   "metadata": {},
   "outputs": [],
   "source": [
    "from google.cloud import speech\n",
    "from google.cloud.speech import enums\n",
    "from google.cloud.speech import types"
   ]
  },
  {
   "cell_type": "code",
   "execution_count": 35,
   "metadata": {},
   "outputs": [],
   "source": [
    "def convert_sec(timestamp):\n",
    "    sec = int(timestamp.seconds)\n",
    "    nanos = int(timestamp.nanos)\n",
    "    \n",
    "    result = sec + nanos / (10**9)\n",
    "    \n",
    "    return result"
   ]
  },
  {
   "cell_type": "code",
   "execution_count": 87,
   "metadata": {},
   "outputs": [],
   "source": [
    "f_temp = open('../data/result_temp.pkl', 'rb')\n",
    "temp = pkl.load(f_temp)\n",
    "\n",
    "# extract timeline\n",
    "timelines = []\n",
    "pairs = []\n",
    "previous_word = ''\n",
    "for res in temp:\n",
    "    if res.stability >= 0.8 or res.is_final is True:\n",
    "        word = res.alternatives[0].transcript\n",
    "        if len(word) <= len(previous_word):\n",
    "            previous_word = word\n",
    "            continue\n",
    "        sec = convert_sec(res.result_end_time)\n",
    "        timeline = sec * 16000\n",
    "        timelines.append(timeline)\n",
    "        if res.is_final is True:\n",
    "            pair = (timeline, word, float(res.alternatives[0].confidence))\n",
    "        else:\n",
    "            pair = (timeline, word, res.stability)\n",
    "        pairs.append(pair)\n",
    "        previous_word = word\n",
    "\n",
    "f_temp.close()"
   ]
  },
  {
   "cell_type": "code",
   "execution_count": 88,
   "metadata": {},
   "outputs": [
    {
     "name": "stdout",
     "output_type": "stream",
     "text": [
      "(25920.0, '사과', 0.8999999761581421)\n",
      "(51840.0, '사과 오렌지', 0.8999999761581421)\n",
      "(103680.0, '사과 오렌지 수박', 0.8999999761581421)\n",
      "(136800.0, '사과 오렌지 수박 바나나', 0.9236595034599304)\n"
     ]
    }
   ],
   "source": [
    "for pair in pairs:\n",
    "    print(pair)"
   ]
  },
  {
   "cell_type": "code",
   "execution_count": 89,
   "metadata": {},
   "outputs": [
    {
     "data": {
      "image/png": "[encoded data removed]",
      "text/plain": [
       "<Figure size 432x288 with 1 Axes>"
      ]
     },
     "metadata": {
      "needs_background": "light"
     },
     "output_type": "display_data"
    }
   ],
   "source": [
    "plt.plot(data)\n",
    "for t in timelines:\n",
    "    plt.axvline(x=t, color='r')\n",
    "plt.show()"
   ]
  },
  {
   "cell_type": "code",
   "execution_count": null,
   "metadata": {},
   "outputs": [],
   "source": []
  }
 ],
 "metadata": {
  "kernelspec": {
   "display_name": "Python 3",
   "language": "python",
   "name": "python3"
  },
  "language_info": {
   "codemirror_mode": {
    "name": "ipython",
    "version": 3
   },
   "file_extension": ".py",
   "mimetype": "text/x-python",
   "name": "python",
   "nbconvert_exporter": "python",
   "pygments_lexer": "ipython3",
   "version": "3.7.6"
  }
 },
 "nbformat": 4,
 "nbformat_minor": 2
}
